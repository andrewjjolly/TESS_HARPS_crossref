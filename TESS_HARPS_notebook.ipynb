{
 "cells": [
  {
   "cell_type": "code",
   "execution_count": 59,
   "source": [
    "import pandas as pd\n",
    "from astroquery.eso import Eso\n",
    "import numpy as np"
   ],
   "outputs": [],
   "metadata": {}
  },
  {
   "cell_type": "code",
   "execution_count": 63,
   "source": [
    "harps_table = eso.query('HARPS')\n",
    "harps_ra = harps_table['RA']\n",
    "harps_dec = harps_table['DEC']\n",
    "\n",
    "np.min(harps_dec)"
   ],
   "outputs": [
    {
     "output_type": "execute_result",
     "data": {
      "text/plain": [
       "-77.88811"
      ]
     },
     "metadata": {},
     "execution_count": 63
    }
   ],
   "metadata": {}
  },
  {
   "cell_type": "code",
   "execution_count": 22,
   "source": [
    "tess_ctoi = '/home/z5345592/projects/TESS_HARPS_crossref/exofop_ctoi_list_210811.csv'\n",
    "tess_toi = '/home/z5345592/projects/TESS_HARPS_crossref/exofop_toi_list_210811.csv'"
   ],
   "outputs": [],
   "metadata": {}
  },
  {
   "cell_type": "code",
   "execution_count": 30,
   "source": [
    "tess_toi_df = pd.read_csv(tess_toi, sep = \",\", header=0)\n",
    "tess_ctoi_df = pd.read_csv(tess_ctoi,sep = \",\", header=0)"
   ],
   "outputs": [],
   "metadata": {}
  },
  {
   "cell_type": "code",
   "execution_count": 37,
   "source": [
    "eso = Eso()\n",
    "eso.login(\"andrewjolly\", store_password = True)"
   ],
   "outputs": [
    {
     "output_type": "stream",
     "name": "stderr",
     "text": [
      "WARNING: No password was found in the keychain for the provided username. [astroquery.query]\n"
     ]
    },
    {
     "output_type": "stream",
     "name": "stdout",
     "text": [
      "INFO: Authenticating andrewjolly on www.eso.org... [astroquery.eso.core]\n",
      "INFO: Authentication successful! [astroquery.eso.core]\n"
     ]
    }
   ],
   "metadata": {}
  },
  {
   "cell_type": "code",
   "execution_count": 34,
   "source": [
    "tess_toi_df.columns"
   ],
   "outputs": [
    {
     "output_type": "execute_result",
     "data": {
      "text/plain": [
       "Index(['TIC ID', 'TOI', 'Previous CTOI', 'Master', 'SG1A', 'SG1B', 'SG2',\n",
       "       'SG3', 'SG4', 'SG5', 'ACWG ESM', 'ACWG TSM', 'Time Series Observations',\n",
       "       'Spectroscopy Observations', 'Imaging Observations', 'TESS Disposition',\n",
       "       'TFOPWG Disposition', 'TESS Mag', 'TESS Mag err', 'Planet Name',\n",
       "       'Pipeline Signal ID', 'Source', 'RA', 'Dec', 'PM RA (mas/yr)',\n",
       "       'PM RA err (mas/yr)', 'PM Dec (mas/yr)', 'PM Dec err (mas/yr)',\n",
       "       'Epoch (BJD)', 'Epoch (BJD) err', 'Period (days)', 'Period (days) err',\n",
       "       'Duration (hours)', 'Duration (hours) err', 'Depth (mmag)',\n",
       "       'Depth (mmag) err', 'Depth (ppm)', 'Depth (ppm) err',\n",
       "       'Planet Radius (R_Earth)', 'Planet Radius (R_Earth) err',\n",
       "       'Planet Insolation (Earth Flux)', 'Planet Equil Temp (K)', 'Planet SNR',\n",
       "       'Stellar Distance (pc)', 'Stellar Distance (pc) err',\n",
       "       'Stellar Eff Temp (K)', 'Stellar Eff Temp (K) err',\n",
       "       'Stellar log(g) (cm/s^2)', 'Stellar log(g) (cm/s^2) err',\n",
       "       'Stellar Radius (R_Sun)', 'Stellar Radius (R_Sun) err',\n",
       "       'Stellar Metallicity', ' Stellar Metallicity err', 'Sectors',\n",
       "       'Date TOI Alerted (UTC)', 'Date TOI Updated (UTC)', 'Date Modified',\n",
       "       'Comments'],\n",
       "      dtype='object')"
      ]
     },
     "metadata": {},
     "execution_count": 34
    }
   ],
   "metadata": {}
  },
  {
   "cell_type": "code",
   "execution_count": 35,
   "source": [
    "tess_toi_df.RA"
   ],
   "outputs": [
    {
     "output_type": "execute_result",
     "data": {
      "text/plain": [
       "0       21:14:56.88\n",
       "1       05:48:33.56\n",
       "2        20:49:49.8\n",
       "3       21:19:47.93\n",
       "4       22:29:49.88\n",
       "           ...     \n",
       "4409    05:20:16.06\n",
       "4410    15:27:49.36\n",
       "4411    12:01:11.56\n",
       "4412    13:28:40.12\n",
       "4413    13:30:36.49\n",
       "Name: RA, Length: 4414, dtype: object"
      ]
     },
     "metadata": {},
     "execution_count": 35
    }
   ],
   "metadata": {}
  },
  {
   "cell_type": "code",
   "execution_count": null,
   "source": [],
   "outputs": [],
   "metadata": {}
  }
 ],
 "metadata": {
  "orig_nbformat": 4,
  "language_info": {
   "name": "python",
   "version": "3.7.10",
   "mimetype": "text/x-python",
   "codemirror_mode": {
    "name": "ipython",
    "version": 3
   },
   "pygments_lexer": "ipython3",
   "nbconvert_exporter": "python",
   "file_extension": ".py"
  },
  "kernelspec": {
   "name": "python3",
   "display_name": "Python 3.7.10 64-bit ('py37': conda)"
  },
  "interpreter": {
   "hash": "e42cc0348417aa91ddc6a1cdb7ea3527b7ca2b5c78f15839e9082e9cb67a5386"
  }
 },
 "nbformat": 4,
 "nbformat_minor": 2
}