{
 "cells": [
  {
   "cell_type": "code",
   "execution_count": 27,
   "source": [
    "import pandas as pd\n",
    "from astroquery.eso import Eso\n",
    "import numpy as np\n",
    "from astropy import units as u\n",
    "from astropy.coordinates import SkyCoord\n",
    "import matplotlib.pyplot as plt "
   ],
   "outputs": [],
   "metadata": {}
  },
  {
   "cell_type": "markdown",
   "source": [
    "## Step 1: get a list of TESS TOI & TESS CTOI and their RA / DEC"
   ],
   "metadata": {}
  },
  {
   "cell_type": "code",
   "execution_count": 3,
   "source": [
    "#location of the csv files (note - try to find the online location of these if updated)\n",
    "\n",
    "tess_ctoi = '/home/z5345592/projects/TESS_HARPS_crossref/exofop_ctoi_list_210811.csv'\n",
    "tess_toi = '/home/z5345592/projects/TESS_HARPS_crossref/exofop_toi_list_210811.csv'"
   ],
   "outputs": [],
   "metadata": {}
  },
  {
   "cell_type": "code",
   "execution_count": 4,
   "source": [
    "#converting to pandas dataframes\n",
    "\n",
    "tess_toi_df = pd.read_csv(tess_toi, sep = \",\", header=0)\n",
    "tess_ctoi_df = pd.read_csv(tess_ctoi,sep = \",\", header=0)"
   ],
   "outputs": [],
   "metadata": {}
  },
  {
   "cell_type": "code",
   "execution_count": 5,
   "source": [
    "tess_ctoi_df['Dec']"
   ],
   "outputs": [
    {
     "output_type": "execute_result",
     "data": {
      "text/plain": [
       "0      -24.958522\n",
       "1      -29.543332\n",
       "2       28.682071\n",
       "3      -34.815988\n",
       "4      -51.001197\n",
       "          ...    \n",
       "1566   -60.302639\n",
       "1567   -53.426788\n",
       "1568   -25.690571\n",
       "1569   -59.911881\n",
       "1570   -61.324933\n",
       "Name: Dec, Length: 1571, dtype: float64"
      ]
     },
     "metadata": {},
     "execution_count": 5
    }
   ],
   "metadata": {}
  },
  {
   "cell_type": "markdown",
   "source": [
    "## need to convert decimal to hours, minutes, seconds to be able to query the ESO database"
   ],
   "metadata": {}
  },
  {
   "cell_type": "code",
   "execution_count": 6,
   "source": [
    "print(tess_ctoi_df['RA'][0])\n",
    "print(tess_ctoi_df['Dec'][0])\n",
    "print(tess_toi_df['RA'][0])\n",
    "print(tess_toi_df['Dec'][0])"
   ],
   "outputs": [
    {
     "output_type": "stream",
     "name": "stdout",
     "text": [
      "219.336233\n",
      "-24.958522\n",
      "21:14:56.88\n",
      "-55:52:18.71\n"
     ]
    }
   ],
   "metadata": {}
  },
  {
   "cell_type": "code",
   "execution_count": 101,
   "source": [
    "test_dec = tess_toi_df['Dec']\n",
    "test_ra = tess_toi_df['RA']\n",
    "\n",
    "# print(test_dec)\n",
    "# print(test_ra)\n",
    "\n",
    "tess_toi_coords = SkyCoord(ra=tess_toi_df['RA'], dec=tess_toi_df['Dec'], unit=(u.hour, u.deg), frame='icrs')\n",
    "tess_ctoi_coords = SkyCoord(ra = tess_ctoi_df['RA'], dec = tess_ctoi_df['Dec'], unit=(u.deg), frame='icrs')"
   ],
   "outputs": [],
   "metadata": {}
  },
  {
   "cell_type": "markdown",
   "source": [
    "## Step 2: Query the ESO database for observations in the vicinity of the TESS OIs"
   ],
   "metadata": {}
  },
  {
   "cell_type": "code",
   "execution_count": 7,
   "source": [
    "eso = Eso()\n",
    "eso.login(\"andrewjolly\", store_password = True)"
   ],
   "outputs": [
    {
     "output_type": "stream",
     "name": "stdout",
     "text": [
      "INFO: Authenticating andrewjolly on www.eso.org... [astroquery.eso.core]\n",
      "INFO: Authentication successful! [astroquery.eso.core]\n"
     ]
    }
   ],
   "metadata": {}
  },
  {
   "cell_type": "code",
   "execution_count": 92,
   "source": [
    "# testing to see if it works if I manually type in the ra and dec. note need lower case 'ra' and 'dec' for this to work.\n",
    "\n",
    "eso.ROW_LIMIT = 10\n",
    "table = eso.query_main(column_filters={'instrument':'HARPS', 'ra':'05:46:00 .. 05:48:00', 'dec':'-32:18:31.0 .. -32:18:29'})\n",
    "table"
   ],
   "outputs": [
    {
     "output_type": "execute_result",
     "data": {
      "text/plain": [
       "<Table length=4>\n",
       "OBJECT      RA         DEC     ...   MJD-OBS    Airmass DIMM Seeing at Start\n",
       " str6     str11       str11    ...   float64    float64       float64       \n",
       "------ ----------- ----------- ... ------------ ------- --------------------\n",
       "HR1996 05:46:00.00 -32:18:30.0 ... 56410.971985   1.352                 1.49\n",
       "HR1996 05:46:00.14 -32:18:29.0 ... 57663.323966   1.106                 0.63\n",
       "HR1996 05:46:00.29 -32:18:29.1 ... 54339.411288   1.146                 1.21\n",
       "HR1996 05:46:01.26 -32:18:30.2 ... 55196.288466   1.297                 0.88"
      ],
      "text/html": [
       "<i>Table length=4</i>\n",
       "<table id=\"table139875598291856\" class=\"table-striped table-bordered table-condensed\">\n",
       "<thead><tr><th>OBJECT</th><th>RA</th><th>DEC</th><th>Program_ID</th><th>Instrument</th><th>Category</th><th>Type</th><th>Mode</th><th>Dataset ID</th><th>Release_Date</th><th>TPL ID</th><th>TPL START</th><th>Exptime</th><th>Exposure</th><th>filter_lambda_min</th><th>filter_lambda_max</th><th>MJD-OBS</th><th>Airmass</th><th>DIMM Seeing at Start</th></tr></thead>\n",
       "<thead><tr><th>str6</th><th>str11</th><th>str11</th><th>str12</th><th>str5</th><th>str7</th><th>str14</th><th>str7</th><th>str29</th><th>str11</th><th>str17</th><th>str19</th><th>float64</th><th>float64</th><th>int64</th><th>int64</th><th>float64</th><th>float64</th><th>float64</th></tr></thead>\n",
       "<tr><td>HR1996</td><td>05:46:00.00</td><td>-32:18:30.0</td><td>60.A-9036(A)</td><td>HARPS</td><td>SCIENCE</td><td>STAR,DARK,NONE</td><td>ECHELLE</td><td>HARPS.2013-04-28T23:19:39.519</td><td>Apr 29 2014</td><td>HARPS_ech_obs_all</td><td>2013-04-28T23:19:33</td><td>139.676</td><td>139.676</td><td>--</td><td>--</td><td>56410.971985</td><td>1.352</td><td>1.49</td></tr>\n",
       "<tr><td>HR1996</td><td>05:46:00.14</td><td>-32:18:29.0</td><td>60.A-9700(G)</td><td>HARPS</td><td>SCIENCE</td><td>STAR,DARK,NONE</td><td>ECHELLE</td><td>HARPS.2016-10-02T07:46:30.621</td><td>Oct  2 2016</td><td>HARPS_ech_obs_all</td><td>2016-10-02T07:46:25</td><td>139.674</td><td>139.674</td><td>--</td><td>--</td><td>57663.323966</td><td>1.106</td><td>0.63</td></tr>\n",
       "<tr><td>HR1996</td><td>05:46:00.29</td><td>-32:18:29.1</td><td>60.A-9036(A)</td><td>HARPS</td><td>SCIENCE</td><td>STAR,DARK,NONE</td><td>ECHELLE</td><td>HARPS.2007-08-27T09:52:15.288</td><td>Aug 27 2008</td><td>HARPS_ech_obs_all</td><td>2007-08-27T09:52:09</td><td>139.673</td><td>139.673</td><td>--</td><td>--</td><td>54339.411288</td><td>1.146</td><td>1.21</td></tr>\n",
       "<tr><td>HR1996</td><td>05:46:01.26</td><td>-32:18:30.2</td><td>60.A-9036(A)</td><td>HARPS</td><td>SCIENCE</td><td>STAR,DARK,NONE</td><td>ECHELLE</td><td>HARPS.2009-12-31T06:55:23.429</td><td>Dec 31 2010</td><td>HARPS_ech_obs_all</td><td>2009-12-31T06:55:17</td><td>139.67</td><td>139.67</td><td>--</td><td>--</td><td>55196.288466</td><td>1.297</td><td>0.88</td></tr>\n",
       "</table>"
      ]
     },
     "metadata": {},
     "execution_count": 92
    }
   ],
   "metadata": {}
  },
  {
   "cell_type": "code",
   "execution_count": 132,
   "source": [
    "# now trying with a coordinate from the tess toi database. Want to get a range +/- 0.005 degrees (~20 arc seconds?)\n",
    "\n",
    "print(tess_toi_df['RA'][0])\n",
    "print(tess_toi_df['Dec'][0])"
   ],
   "outputs": [
    {
     "output_type": "stream",
     "name": "stdout",
     "text": [
      "21:14:56.88\n",
      "-55:52:18.71\n"
     ]
    }
   ],
   "metadata": {}
  },
  {
   "cell_type": "code",
   "execution_count": 134,
   "source": [
    "eso.ROW_LIMIT = 10\n",
    "table1 = eso.query_main(column_filters={'instrument':'HARPS', 'ra':'21:10:00 .. 21:20:00', 'dec':'-55:53:00 .. -55:51:00'})"
   ],
   "outputs": [],
   "metadata": {}
  },
  {
   "cell_type": "code",
   "execution_count": 135,
   "source": [
    "print(table1)"
   ],
   "outputs": [
    {
     "output_type": "stream",
     "name": "stdout",
     "text": [
      "OBJECT      RA         DEC     ...   MJD-OBS    Airmass DIMM Seeing at Start\n",
      "------ ----------- ----------- ... ------------ ------- --------------------\n",
      "WASP46 21:14:56.21 -55:52:21.0 ... 58427.085078   1.331                 0.94\n",
      "WASP46 21:14:56.29 -55:52:19.9 ... 58427.074291   1.292                 0.98\n",
      "WASP46 21:14:56.57 -55:52:19.1 ... 58427.063515   1.258                 0.84\n",
      "WASP46 21:14:56.61 -55:52:28.0 ... 58427.138957   1.622                 1.14\n",
      "WASP46 21:14:56.63 -55:52:29.9 ... 58427.149731   1.706                 0.73\n",
      "WASP46 21:14:56.74 -55:52:26.5 ...  58427.12818   1.548                 1.03\n",
      "WASP46 21:14:56.85 -55:52:19.4 ...  58427.05274   1.228                  0.8\n",
      "WASP46 21:14:56.89 -55:52:25.1 ... 58427.117404   1.483                 0.98\n",
      "WASP46 21:14:57.06 -55:52:23.6 ...  58427.10663   1.426                 0.92\n",
      "WASP46 21:14:57.11 -55:52:19.4 ... 58427.041965   1.203                 0.84\n"
     ]
    }
   ],
   "metadata": {}
  },
  {
   "cell_type": "code",
   "execution_count": null,
   "source": [],
   "outputs": [],
   "metadata": {}
  }
 ],
 "metadata": {
  "orig_nbformat": 4,
  "language_info": {
   "name": "python",
   "version": "3.7.10",
   "mimetype": "text/x-python",
   "codemirror_mode": {
    "name": "ipython",
    "version": 3
   },
   "pygments_lexer": "ipython3",
   "nbconvert_exporter": "python",
   "file_extension": ".py"
  },
  "kernelspec": {
   "name": "python3",
   "display_name": "Python 3.7.10 64-bit ('py37': conda)"
  },
  "interpreter": {
   "hash": "e42cc0348417aa91ddc6a1cdb7ea3527b7ca2b5c78f15839e9082e9cb67a5386"
  }
 },
 "nbformat": 4,
 "nbformat_minor": 2
}